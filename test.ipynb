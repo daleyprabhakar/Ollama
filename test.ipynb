{
 "cells": [
  {
   "cell_type": "code",
   "execution_count": 7,
   "metadata": {},
   "outputs": [],
   "source": [
    "from langchain.llms import Ollama"
   ]
  },
  {
   "cell_type": "code",
   "execution_count": 8,
   "metadata": {},
   "outputs": [],
   "source": [
    "ollama = Ollama(base_url = 'http://localhost:11434', model=\"GENAI_Guru\")"
   ]
  },
  {
   "cell_type": "code",
   "execution_count": 9,
   "metadata": {},
   "outputs": [
    {
     "name": "stdout",
     "output_type": "stream",
     "text": [
      "I'm GENAI_Guru, a technical assistant created by Visualpath. My expertise lies in Generative AI (GenAI), Machine Learning (ML), and Deep Learning (DL). I'm here to provide information, insights, and guidance on these exciting technologies. Feel free to ask me any questions you have!\n"
     ]
    }
   ],
   "source": [
    "print(ollama(\"who are you?\"))"
   ]
  }
 ],
 "metadata": {
  "kernelspec": {
   "display_name": "ollamaenv",
   "language": "python",
   "name": "python3"
  },
  "language_info": {
   "codemirror_mode": {
    "name": "ipython",
    "version": 3
   },
   "file_extension": ".py",
   "mimetype": "text/x-python",
   "name": "python",
   "nbconvert_exporter": "python",
   "pygments_lexer": "ipython3",
   "version": "3.11.11"
  }
 },
 "nbformat": 4,
 "nbformat_minor": 2
}
